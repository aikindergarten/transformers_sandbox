{
 "cells": [
  {
   "cell_type": "code",
   "execution_count": null,
   "metadata": {},
   "outputs": [],
   "source": [
    "# !! TO MODIFY default_exp xformer"
   ]
  },
  {
   "cell_type": "code",
   "execution_count": null,
   "metadata": {},
   "outputs": [],
   "source": [
    "#hide\n",
    "from nbdev.showdoc import *"
   ]
  },
  {
   "cell_type": "code",
   "execution_count": null,
   "metadata": {},
   "outputs": [],
   "source": [
    "#hide\n",
    "%load_ext autoreload\n",
    "%autoreload 2"
   ]
  },
  {
   "cell_type": "code",
   "execution_count": null,
   "metadata": {},
   "outputs": [],
   "source": [
    "#export\n",
    "from fastai.basics import *\n",
    "from transformers_sandbox.core import *\n",
    "from transformers_sandbox.layers import *\n",
    "from transformers_sandbox.attention import *\n",
    "from transformers_sandbox.transformer import LMMixin, EncDecMixin"
   ]
  },
  {
   "cell_type": "markdown",
   "metadata": {},
   "source": [
    "# MODELNAME\n",
    "\n",
    "> This is template notebook intended to speedup adding new model architectures"
   ]
  },
  {
   "cell_type": "markdown",
   "metadata": {},
   "source": [
    "## Helpers"
   ]
  },
  {
   "cell_type": "code",
   "execution_count": null,
   "metadata": {},
   "outputs": [],
   "source": [
    "# !! example\n",
    "\n",
    "#export\n",
    "class ChunkedFeedForward(Module):\n",
    "    \"Applies positionwise feed-forward layer to input chunced along dim\"\n",
    "    def __init__(self, d:int, d_ff:int=None, n_chunks:int=1, dropout:float=0., dim:int=-1):\n",
    "        store_attr('n_chunks,dim')\n",
    "        d_ff = default(d_ff, 4*d)\n",
    "        self.net = nn.Sequential(\n",
    "            nn.Linear(d, d_ff),\n",
    "            nn.GELU(),\n",
    "            nn.Dropout(dropout),\n",
    "            nn.Linear(d_ff, d),\n",
    "            nn.Dropout(dropout)\n",
    "            )\n",
    "    def forward(self, x, **kwargs):\n",
    "        if self.n_chunks == 1:\n",
    "            return self.net(x)\n",
    "        chunks = x.chunk(self.n_chunks, dim = self.dim)\n",
    "        return torch.cat([self.net(c) for c in chunks], dim = self.dim)"
   ]
  },
  {
   "cell_type": "code",
   "execution_count": null,
   "metadata": {},
   "outputs": [],
   "source": [
    "# !! don't forget the tests\n",
    "\n",
    "bs = 4\n",
    "sl = 64\n",
    "d = 128\n",
    "x = torch.randn(bs, sl, d)\n",
    "ff  = ChunkedFeedForward(d, n_chunks=8, dim=1)\n",
    "out = ff(x)\n",
    "assert out.size() == (bs, sl, d)"
   ]
  },
  {
   "cell_type": "markdown",
   "metadata": {},
   "source": [
    "## Bricks\n",
    "\n",
    "> Architecture specific layers, blocks and containers. Consider moving general purpose layers and attention modules to `01_layers` and `02*_attention_func_name` notebooks respectively"
   ]
  },
  {
   "cell_type": "markdown",
   "metadata": {},
   "source": [
    "### Encoder"
   ]
  },
  {
   "cell_type": "code",
   "execution_count": null,
   "metadata": {},
   "outputs": [],
   "source": [
    "#export\n",
    "class TransformerEncoderBlock(Module):\n",
    "    \"\"\"\n",
    "    Bacis transformer encoder block. Consists of multi-head attention and positional \n",
    "    feedforward layers\n",
    "    \"\"\"\n",
    "    def __init__(self,\n",
    "                 d_model:int, \n",
    "                 n_heads:int = 8, \n",
    "                 d_ff:int = None, \n",
    "                 attn_dropout:float = 0.1,\n",
    "                 ff_dropout:float = 0.1,\n",
    "                 causal:bool = False, \n",
    "                 attn_bias:bool = False, \n",
    "                 prenorm:bool=False,\n",
    "                 shared_qk:bool=False):\n",
    "        store_attr('attn_dropout') # mb separate argument attn_post_dropout\n",
    "        if prenorm:\n",
    "            self.attn = Residual(PreNorm(d_model, Attention(d_model, n_heads=n_heads, causal=causal, dropout=attn_dropout, bias=attn_bias, shared_qk=shared_qk)))\n",
    "            self.ff = Residual(PreNorm(d_model, FeedForward(d_model, d_ff=d_ff, dropout=ff_dropout)))\n",
    "        else:\n",
    "            self.attn = PostNorm(d_model, Residual(Attention(d_model, n_heads=n_heads, causal=causal, dropout=attn_dropout, bias=attn_bias, shared_qk=shared_qk)))\n",
    "            self.ff = PostNorm(d_model, Residual(FeedForward(d_model, d_ff=d_ff, dropout=ff_dropout)))\n",
    "        \n",
    "    def forward(self, x, mask=None): #? more args\n",
    "        out = self.attn(x, mask=mask)\n",
    "        return self.ff(out)"
   ]
  },
  {
   "cell_type": "code",
   "execution_count": null,
   "metadata": {},
   "outputs": [
    {
     "data": {
      "text/plain": [
       "torch.Size([4, 128, 64])"
      ]
     },
     "execution_count": null,
     "metadata": {},
     "output_type": "execute_result"
    }
   ],
   "source": [
    "bs = 4\n",
    "sl = 128\n",
    "d = 64\n",
    "x = torch.randn(bs, sl, d)\n",
    "m = TransformerEncoderBlock(d)\n",
    "out = m(x)\n",
    "assert (out.size() == (bs, sl, d))\n",
    "out.shape"
   ]
  },
  {
   "cell_type": "code",
   "execution_count": null,
   "metadata": {},
   "outputs": [],
   "source": [
    "#hide\n",
    "m = TransformerEncoderBlock(d, shared_qk=True)\n",
    "out = m(x)\n",
    "assert (out.size() == (bs, sl, d))"
   ]
  },
  {
   "cell_type": "code",
   "execution_count": null,
   "metadata": {},
   "outputs": [],
   "source": [
    "#export\n",
    "class TransformerEncoder(Module):\n",
    "    \"\"\"Stack of TransformerEncoderBlocks\"\"\"\n",
    "    def __init__(self, \n",
    "                 d_model, \n",
    "                 n_layers=6, \n",
    "                 n_heads=8, \n",
    "                 d_ff=None,\n",
    "                 ff_dropout=0.1, \n",
    "                 attn_dropout=0.1,\n",
    "                 attn_bias=False,\n",
    "                 causal=False, \n",
    "                 prenorm=False,\n",
    "                 shared_qk:bool=False,\n",
    "                 final_norm=None):\n",
    "        store_attr('d_model')\n",
    "        self.layers = nn.ModuleList([])    \n",
    "        for _ in range(n_layers):\n",
    "            self.layers.append(TransformerEncoderBlock(d_model, n_heads, causal=causal, \n",
    "                                    d_ff=d_ff, attn_dropout=attn_dropout, ff_dropout=ff_dropout, \n",
    "                                    prenorm=prenorm, attn_bias=attn_bias, shared_qk=shared_qk))\n",
    "        self.norm = None if final_norm is None else final_norm(d_model)\n",
    "        \n",
    "    def forward(self, x, mask=None):\n",
    "        for layer in self.layers: x = layer(x, mask=mask)\n",
    "        if self.norm is not None: x = self.norm(x)\n",
    "        return x"
   ]
  },
  {
   "cell_type": "code",
   "execution_count": null,
   "metadata": {},
   "outputs": [
    {
     "data": {
      "text/plain": [
       "torch.Size([4, 128, 64])"
      ]
     },
     "execution_count": null,
     "metadata": {},
     "output_type": "execute_result"
    }
   ],
   "source": [
    "x = torch.randn(bs, sl, d)\n",
    "m = TransformerEncoder(d)\n",
    "out = m(x)\n",
    "assert (out.size() == (bs, sl, d))\n",
    "out.shape"
   ]
  },
  {
   "cell_type": "markdown",
   "metadata": {},
   "source": [
    "### Decoder"
   ]
  },
  {
   "cell_type": "code",
   "execution_count": null,
   "metadata": {},
   "outputs": [],
   "source": [
    "#export\n",
    "class TransformerDecoderBlock(Module):\n",
    "    \"\"\"\n",
    "    Standart transformer decoder block. Consist of self-attention, encoder-decoder attention \n",
    "    and positiona feed-forward alyers\n",
    "    \"\"\"\n",
    "    def __init__(self, \n",
    "                 d_model, \n",
    "                 n_heads = 8, \n",
    "                 d_ff = None,\n",
    "                 attn_dropout = 0.1, \n",
    "                 ff_dropout=0.1,\n",
    "                 mask = None ,\n",
    "                 attn_bias=False,\n",
    "                 prenorm=False):\n",
    "        # mb separate argument attn_post_dropout\n",
    "        if prenorm:\n",
    "            self.attn = Residual(PreNorm(d_model, Attention(d_model, n_heads=n_heads, causal=True, dropout=attn_dropout, bias=attn_bias)))\n",
    "            self.cross = Residual(PreNorm(d_model, Attention(d_model, n_heads=n_heads, causal=False, dropout=attn_dropout, bias=attn_bias)))\n",
    "            self.ff = Residual(PreNorm(d_model, FeedForward(d_model, d_ff=d_ff, dropout=ff_dropout)))\n",
    "        else:\n",
    "            self.attn = PostNorm(d_model, Residual(Attention(d_model, n_heads=n_heads, causal=True, dropout=attn_dropout, bias=attn_bias)))\n",
    "            self.cross = PostNorm(d_model, Residual(Attention(d_model, n_heads=n_heads, causal=False, dropout=attn_dropout, bias=attn_bias)))\n",
    "            self.ff = PostNorm(d_model, Residual(FeedForward(d_model, d_ff=d_ff, dropout=ff_dropout)))\n",
    "        \n",
    "    def forward(self, x, context, mask=None, context_mask=None):\n",
    "        out = self.attn(x, mask=mask)\n",
    "        out = self.cross(out, context, mask=mask, context_mask=context_mask)\n",
    "        return self.ff(out)"
   ]
  },
  {
   "cell_type": "code",
   "execution_count": null,
   "metadata": {},
   "outputs": [],
   "source": [
    "#export\n",
    "class TransformerDecoderBlockV2(Module):\n",
    "    \"\"\"Transformer decoder block using additive attention layer instead of self-attention \n",
    "    followed by cross-attention\"\"\"\n",
    "    def __init__(self,\n",
    "                 d_model, \n",
    "                 n_heads = 8, \n",
    "                 mask = None, \n",
    "                 d_ff=None,\n",
    "                 attn_dropout=0.1, \n",
    "                 ff_dropout=0.1, \n",
    "                 attn_bias=False,\n",
    "                 prenorm=False):\n",
    "        if prenorm:\n",
    "            self.attn = Residual(PreNorm(d_model, AdditiveAttention(d_model, n_heads=n_heads, causal=True, dropout=attn_dropout, bias=attn_bias)))\n",
    "            self.ff = Residual(PreNorm(d_model, FeedForward(d_model, d_ff=d_ff, dropout=ff_dropout)))\n",
    "        else:\n",
    "            self.attn = PostNorm(d_model, Residual(AdditiveAttention(d_model, n_heads=n_heads, causal=True, dropout=attn_dropout, bias=attn_bias)))\n",
    "            self.ff = PostNorm(d_model, Residual(FeedForward(d_model, d_ff=d_ff, dropout=ff_dropout)))\n",
    "        \n",
    "    def forward(self, x, context, mask=None, context_mask=None):\n",
    "        out = self.attn(x, context, mask=mask, context_mask=context_mask)\n",
    "        out = self.ff(out)\n",
    "        return out"
   ]
  },
  {
   "cell_type": "code",
   "execution_count": null,
   "metadata": {},
   "outputs": [],
   "source": [
    "#export   \n",
    "class TransformerDecoder(Module):\n",
    "    \"\"\"Stack of TransformerDecoder layers\"\"\"\n",
    "    def __init__(self, \n",
    "                 d_model, \n",
    "                 n_layers=6, \n",
    "                 n_heads=8, \n",
    "                 d_ff=None, \n",
    "                 attn_dropout=0.1, \n",
    "                 ff_dropout=0.1, \n",
    "                 prenorm=False, \n",
    "                 comb_attn=False, \n",
    "                 attn_bias=False, \n",
    "                 final_norm=None):\n",
    "        store_attr('d_model')\n",
    "        #TODO(Arto) refactor\n",
    "        block = TransformerDecoderBlockV2 if comb_attn else TransformerDecoderBlock\n",
    "        self.layers = nn.ModuleList([])\n",
    "        for _ in range(n_layers):\n",
    "            self.layers.append(block(d_model, n_heads, d_ff=d_ff, attn_dropout=attn_dropout, \n",
    "                                     ff_dropout=ff_dropout, prenorm=prenorm, attn_bias=attn_bias))\n",
    "        self.norm = None if final_norm is None else final_norm(d_model)\n",
    "        \n",
    "    def forward(self, x, context, mask=None, context_mask=None):\n",
    "        for layer in self.layers: x = layer(x, context, mask, context_mask)\n",
    "        if self.norm is not None: x = self.norm(x)\n",
    "        return x"
   ]
  },
  {
   "cell_type": "code",
   "execution_count": null,
   "metadata": {},
   "outputs": [
    {
     "data": {
      "text/plain": [
       "torch.Size([4, 128, 64])"
      ]
     },
     "execution_count": null,
     "metadata": {},
     "output_type": "execute_result"
    }
   ],
   "source": [
    "x = torch.randn(bs, sl, d)\n",
    "context = torch.randn(bs, sl, d)\n",
    "m = TransformerDecoder(d)\n",
    "out = m(x, context)\n",
    "assert (out.size() == (bs, sl, d))\n",
    "out.shape"
   ]
  },
  {
   "cell_type": "markdown",
   "metadata": {},
   "source": [
    "## Models"
   ]
  },
  {
   "cell_type": "markdown",
   "metadata": {},
   "source": [
    "### Language model"
   ]
  },
  {
   "cell_type": "code",
   "execution_count": null,
   "metadata": {},
   "outputs": [],
   "source": [
    "#export\n",
    "class TransformerLM(Module, LMMixin):\n",
    "    \"\"\"\n",
    "    Basic Transformer for language modelling\n",
    "    \n",
    "    Parameters:\n",
    "        * vocab_sz: int\n",
    "        * d_model: int - inner dimension of the model\n",
    "        * n_layers: int (default: 6) \n",
    "        * n_heads: int (default: 8)\n",
    "        * d_ff: int - inner dimension of the pointwise FeedForward net, if None defaults to 4*d_model\n",
    "        * attn_dropout: float - attention dropout\n",
    "        * ff_dropout: float - feed-forward dropout\n",
    "        * emb_dropout: float - embedding dropout\n",
    "        * causal: bool (default: True) - if True does causal masking automatically\n",
    "        * max_seq_len: int (default: 512)\n",
    "        * tie_weights: bool - if True target embedding weights are used for computation output projection\n",
    "        * prenorm: bool - wether to use PreNorm or PostNorm\n",
    "        * attn_bias: bool - wether to allow biases in attention projection layers\n",
    "        * pad_idx: int - padding token id, required for autogeneration of padding mask\n",
    "        * pos_enc: str from {'absolute', 'fixed', 'axial'} - type of positional encoding to use\n",
    "        * axial_shape: tuple - [optional] should be factors of max_seq_len\n",
    "        * axial_emb_dims: tuple - [optional] axial embedding components, should sum to d_model\n",
    "    Inputs:\n",
    "        * x - input ids, shape [bs, sl]\n",
    "        * mask - optional boolean mask, shape [bs, sl]\n",
    "    Returns:\n",
    "        * logits - target token logits, shape [bs, sl, vocab_sz]\n",
    "    \"\"\"\n",
    "    def __init__(self, \n",
    "                 vocab_sz:int, \n",
    "                 d_model:int, \n",
    "                 n_layers:int=6,\n",
    "                 n_heads:int=8,\n",
    "                 d_ff:int=None,\n",
    "                 attn_dropout:float=0.1,\n",
    "                 ff_dropout:float=0.1,\n",
    "                 emb_dropout:float=0.1,\n",
    "                 tie_weights:bool=True,\n",
    "                 causal:bool=True,\n",
    "                 pos_enc:str='absolute',\n",
    "                 max_seq_len:int=512,\n",
    "                 axial_shape:tuple=None,\n",
    "                 axial_emb_dims:tuple=None,\n",
    "                 pad_idx:int=None,\n",
    "                 prenorm:bool=False,\n",
    "                 attn_bias:bool=False,\n",
    "                 shared_qk:bool=False):\n",
    "        store_attr()\n",
    "        self.emb = TransformerEmbedding(vocab_sz, d_model, max_seq_len, dropout=emb_dropout, \n",
    "                                        pos_enc=pos_enc, axial_shape=axial_shape, \n",
    "                                        axial_emb_dims=axial_emb_dims)\n",
    "        final_norm = nn.LayerNorm if prenorm else None\n",
    "        self.encoder = TransformerEncoder(d_model, n_layers, n_heads, causal=causal, d_ff=d_ff,\n",
    "                                          attn_dropout=attn_dropout, ff_dropout=ff_dropout,\n",
    "                                          prenorm=prenorm, attn_bias=attn_bias,\n",
    "                                          shared_qk=shared_qk, final_norm=final_norm)\n",
    "        self.proj = nn.Linear(d_model, vocab_sz)\n",
    "        if tie_weights: self.proj.weight = self.emb.emb.weight\n",
    "        \n",
    "    def forward(self, x, mask=None):\n",
    "        x = self.emb(x)\n",
    "        x = self.encoder(x, mask=mask)\n",
    "        return self.proj(x)\n"
   ]
  },
  {
   "cell_type": "code",
   "execution_count": null,
   "metadata": {},
   "outputs": [
    {
     "data": {
      "text/plain": [
       "torch.Size([4, 128, 256])"
      ]
     },
     "execution_count": null,
     "metadata": {},
     "output_type": "execute_result"
    }
   ],
   "source": [
    "bs = 4\n",
    "sl = 128\n",
    "d = 64\n",
    "vocab_sz = 256\n",
    "x = torch.randint(vocab_sz, (bs, sl))\n",
    "model = TransformerLM(vocab_sz, d, n_layers=2, causal=False)\n",
    "out = model(x)\n",
    "assert (out.size() == (bs, sl, vocab_sz))\n",
    "out.shape"
   ]
  },
  {
   "cell_type": "code",
   "execution_count": null,
   "metadata": {},
   "outputs": [],
   "source": [
    "#hide\n",
    "model = TransformerLM(vocab_sz, d, n_layers=2, causal=True, prenorm=True)\n",
    "out = model(x)\n",
    "assert (out.size() == (bs, sl, vocab_sz))"
   ]
  },
  {
   "cell_type": "code",
   "execution_count": null,
   "metadata": {},
   "outputs": [],
   "source": [
    "#hide\n",
    "model = TransformerLM(vocab_sz, d, n_layers=2, causal=True, shared_qk=True)\n",
    "out = model(x)\n",
    "assert (out.size() == (bs, sl, vocab_sz))\n",
    "assert isinstance(model.encoder.layers[0].attn.sublayer.sublayer.in_proj, SharedQKAttnInProj)"
   ]
  },
  {
   "cell_type": "code",
   "execution_count": null,
   "metadata": {},
   "outputs": [],
   "source": [
    "#export\n",
    "def transformer_lm_splits(model):\n",
    "    \"Splits TransformerLM `model` into groups for differential learning rates.\"\n",
    "    groups = L([model.emb] + [l for l in model.encoder.layers] + [model.proj])\n",
    "    return groups.map(params)"
   ]
  },
  {
   "cell_type": "code",
   "execution_count": null,
   "metadata": {},
   "outputs": [],
   "source": [
    "#hide\n",
    "assert len(transformer_lm_splits(model)) == 2+2"
   ]
  },
  {
   "cell_type": "markdown",
   "metadata": {},
   "source": [
    "### Encoder-Decoder model"
   ]
  },
  {
   "cell_type": "code",
   "execution_count": null,
   "metadata": {},
   "outputs": [],
   "source": [
    "#export\n",
    "class Transformer(Module, EncDecMixin):\n",
    "    \"\"\"\n",
    "    Basic Transformer Encoder-Decoder model\n",
    "    Parameters:\n",
    "        * enc_vocab_sz: int - source vocab size \n",
    "        * dec_vocab_sz: int - target vocab size\n",
    "        * d_model: int - inner dimension of the model\n",
    "        * n_enc_layers: int (default: 6) \n",
    "        * n_dec_layers: int (default: 6) \n",
    "        * heads: int (default: 8)\n",
    "        * d_ff: int - inner dimension of the pointwise FeedForward net, if None defaults to 4*d_model\n",
    "        * attn_dropout: float - attention dropout\n",
    "        * ff_dropout: float - feed-forward dropout\n",
    "        * emb_dropout: float - embedding dropout\n",
    "        * max_seq_len: int (default: 512)\n",
    "        * prenorm: bool - whether to use PreNorm or PostNorm\n",
    "        * attn_bias: bool - whether to allow biases in attention projection layers\n",
    "        * pad_idx: int - padding token id, if pad_idx is provided, and no mask/context_mask are \n",
    "                passed to forward method will be used to generate padding masks\n",
    "        * tie_weights: bool - if True target embedding weights are used for computation output projection\n",
    "        * shared_emb: bool - if True encoder and decoder will use shared embedding layer\n",
    "        * pos_enc: str from {'absolute', 'fixed', 'axial'} - type of positional encoding to use\n",
    "        * axial_shape: tuple - [optional] should be factors of max_seq_len\n",
    "        * axial_emb_dims: tuple - [optional] axial embedding components, should sum to d_model\n",
    "    Inputs:\n",
    "        * src - source input ids, shape [bs, src_sl]\n",
    "        * tgt - target input ids, shape [bs, tgt_sl]\n",
    "        * src_mask - optional boolean source mask, shape [bs, src_sl]\n",
    "        * tgt_mask - optional boolean target mask, shape [bs, tgt_sl]\n",
    "    Returns:\n",
    "        * logits - target token logits, shape [bs, tgt_sl, tgt_vocab_sz]\n",
    "    \"\"\"\n",
    "    def __init__(self, \n",
    "                 enc_vocab_sz, \n",
    "                 dec_vocab_sz, \n",
    "                 d_model, \n",
    "                 n_enc_layers=6, \n",
    "                 n_dec_layers=6, \n",
    "                 n_heads=8, \n",
    "                 d_ff=None,\n",
    "                 pad_idx=None, \n",
    "                 tie_weights=True,\n",
    "                 shared_emb = False,\n",
    "                 attn_dropout=0.1, \n",
    "                 ff_dropout=0.1, \n",
    "                 emb_dropout=0.1,\n",
    "                 prenorm=False, \n",
    "                 attn_bias=False,\n",
    "                 comb_attn=False, \n",
    "                 pos_enc='absolute', \n",
    "                 max_seq_len=512, \n",
    "                 axial_shape=None, \n",
    "                 axial_emb_dims=None):\n",
    "        store_attr()\n",
    "        self.enc_emb = TransformerEmbedding(enc_vocab_sz, d_model, max_seq_len, dropout=emb_dropout, pos_enc=pos_enc,\n",
    "                                            axial_shape=axial_shape, axial_emb_dims=axial_emb_dims)\n",
    "        if shared_emb:\n",
    "            assert (enc_vocab_sz == dec_vocab_sz), \"Encoder and decoder vocab size doesn't match\"\n",
    "            self.dec_emb = self.enc_emb\n",
    "        else:\n",
    "            self.dec_emb = TransformerEmbedding(dec_vocab_sz, d_model, max_seq_len, dropout=emb_dropout, pos_enc=pos_enc,\n",
    "                                                axial_shape=axial_shape, axial_emb_dims=axial_emb_dims)\n",
    "        final_norm = nn.LayerNorm if prenorm else None\n",
    "        self.encoder = TransformerEncoder(d_model, n_enc_layers, n_heads, d_ff=d_ff, attn_dropout=attn_dropout, ff_dropout=ff_dropout, \n",
    "                                          prenorm=prenorm, attn_bias=attn_bias, final_norm=final_norm, causal=False)\n",
    "        self.decoder = TransformerDecoder(d_model, n_dec_layers, n_heads, d_ff=d_ff, attn_dropout=attn_dropout, ff_dropout=ff_dropout, \n",
    "                                          prenorm=prenorm, comb_attn=comb_attn, attn_bias=attn_bias, final_norm=final_norm)\n",
    "        self.proj = nn.Linear(d_model, dec_vocab_sz)\n",
    "        if tie_weights: self.proj.weight = self.dec_emb.emb.weight\n",
    "\n",
    "    def forward(self, src, tgt, src_mask=None, tgt_mask=None):\n",
    "        src_mask = default(src_mask, self.get_padding_mask(src))\n",
    "        tgt_mask = default(tgt_mask, self.get_padding_mask(tgt))\n",
    "        enc = self.encoder(self.enc_emb(src), mask=src_mask)\n",
    "        out = self.decoder(self.dec_emb(tgt), context=enc, mask=tgt_mask, context_mask=src_mask)\n",
    "        return self.proj(out)\n",
    "    \n",
    "    def get_padding_mask(self, x):\n",
    "        if self.pad_idx is None: return None\n",
    "        return (x != self.pad_idx)\n"
   ]
  },
  {
   "cell_type": "code",
   "execution_count": null,
   "metadata": {},
   "outputs": [
    {
     "data": {
      "text/plain": [
       "torch.Size([4, 80, 256])"
      ]
     },
     "execution_count": null,
     "metadata": {},
     "output_type": "execute_result"
    }
   ],
   "source": [
    "bs = 4\n",
    "src_sl = 70\n",
    "tgt_sl = 80\n",
    "d = 64\n",
    "src_vocab_sz = 256\n",
    "tgt_vocab_sz = 256\n",
    "src = torch.randint(src_vocab_sz, (bs, src_sl))\n",
    "tgt = torch.randint(tgt_vocab_sz, (bs, tgt_sl))\n",
    "model = Transformer(src_vocab_sz, tgt_vocab_sz, d, n_enc_layers=2, n_dec_layers=2)\n",
    "out = model(src, tgt)\n",
    "assert (out.size() == (bs, tgt_sl, tgt_vocab_sz))\n",
    "out.shape"
   ]
  },
  {
   "cell_type": "code",
   "execution_count": null,
   "metadata": {},
   "outputs": [],
   "source": [
    "#export\n",
    "#TODO find out what is the best way to split encoder-decoder architecture\n",
    "def transformer_splits(model):\n",
    "    \"[v0] Splits Transformer `model` into groups for differential learning rates.\"\n",
    "    groups = L([nn.ModuleList([model.enc_emb, model.dec_emb])] + [l for l in model.encoder.layers] + [l for l in model.decoder.layers] + [model.proj])\n",
    "    return groups.map(params)"
   ]
  },
  {
   "cell_type": "code",
   "execution_count": null,
   "metadata": {},
   "outputs": [],
   "source": [
    "#hide\n",
    "assert len(transformer_splits(model)) == 2+4"
   ]
  },
  {
   "cell_type": "code",
   "execution_count": null,
   "metadata": {},
   "outputs": [
    {
     "name": "stdout",
     "output_type": "stream",
     "text": [
      "Converted 00_core.ipynb.\n",
      "Converted 01_layers.ipynb.\n",
      "Converted 02_attention.ipynb.\n",
      "Converted 03_transformer.ipynb.\n",
      "Converted 04_reformer.ipynb.\n",
      "Converted 05_tokenizers.ipynb.\n",
      "Converted 06_data.ipynb.\n",
      "Converted 07_metrics.ipynb.\n",
      "Converted 08_optimizers.ipynb.\n",
      "Converted 09_tracking.ipynb.\n",
      "Converted index.ipynb.\n"
     ]
    }
   ],
   "source": [
    "#hide\n",
    "from nbdev.export import notebook2script; notebook2script()"
   ]
  },
  {
   "cell_type": "code",
   "execution_count": null,
   "metadata": {},
   "outputs": [],
   "source": []
  }
 ],
 "metadata": {
  "kernelspec": {
   "display_name": "Python [conda env:torchenv]",
   "language": "python",
   "name": "conda-env-torchenv-py"
  }
 },
 "nbformat": 4,
 "nbformat_minor": 4
}
